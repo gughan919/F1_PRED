{
 "cells": [
  {
   "cell_type": "code",
   "execution_count": null,
   "metadata": {},
   "outputs": [],
   "source": [
    "import pandas as pd\n",
    "import numpy as np\n",
    "import matplotlib.pyplot as plt\n",
    "import seaborn as sns\n",
    "\n",
    "\n",
    "drivers = pd.read_csv('drivers.csv')\n",
    "constructors = pd.read_csv('constructors.csv')\n",
    "results = pd.read_csv('results.csv')\n",
    "races=pd.read_csv('races.csv')\n",
    "imp_df = [constructors, drivers,  results,races]\n",
    "\n",
    "\n",
    "for df in imp_df:\n",
    "    df.replace('\\\\N', np.nan, inplace=True)\n",
    "    \n",
    "races.drop(columns=['fp1_date', 'fp1_time', 'fp2_date', 'fp2_time', 'fp3_date', 'fp3_time', 'quali_date', 'quali_time', 'sprint_date', 'sprint_time'],inplace=True)\n",
    "df=pd.merge(results,races[['raceId','year','name','round']],on='raceId',how='left')\n",
    "df=pd.merge(df,drivers[['driverId','driverRef','nationality']],on='driverId',how='left')\n",
    "df=pd.merge(df,constructors[['constructorId','constructorRef','name','nationality']],on='constructorId',how='left')\n",
    "plt.figure(figsize=(16, 10))\n",
    "\n",
    "# Create a heatmap to visualize null values\n",
    "sns.heatmap(df.isnull(), cbar=False, cmap='viridis', yticklabels=False)\n",
    "\n",
    "# Add title and display the heatmap\n",
    "plt.title('Heatmap of Null Values in Races DataFrame', fontsize=16)\n",
    "plt.show()\n"
   ]
  },
  {
   "cell_type": "code",
   "execution_count": null,
   "metadata": {},
   "outputs": [],
   "source": [
    "df.drop(columns=['number','position','positionText','laps','fastestLap','resultId','driverId','constructorId'],axis=1,inplace=True)\n",
    "\n",
    "df.rename(columns={'rank':'fastest_lap_rank','name_x':'GP_Name','nationality_x':'driver_nationality','name_y':'constructor_name','nationality_y':'constructors_nationality','driverRef':'driver'},inplace=True)\n",
    "plt.figure(figsize=(16, 10))\n",
    "\n",
    "# Create a heatmap to visualize null values\n",
    "sns.heatmap(df.isnull(), cbar=False, cmap='viridis', yticklabels=False)\n",
    "\n",
    "# Add title and display the heatmap\n",
    "plt.title('Heatmap of Null Values in  DataFrame', fontsize=16)\n",
    "plt.show()"
   ]
  },
  {
   "cell_type": "code",
   "execution_count": null,
   "metadata": {},
   "outputs": [],
   "source": [
    "df=df[['raceId', 'year', 'driver', 'constructor_name','round' ,'positionOrder','points', 'grid', 'statusId', 'fastest_lap_rank']]\n",
    "df=df.sort_values(by=['year','round','positionOrder'],ascending=[False,True,True])\n",
    "df.fastest_lap_rank=df.fastest_lap_rank.astype(float)\n",
    "print(df.shape)\n",
    "df.reset_index(drop=True,inplace=True)\n",
    "print(df.info)\n",
    "print(df.dtypes)\n"
   ]
  },
  {
   "cell_type": "code",
   "execution_count": null,
   "metadata": {},
   "outputs": [],
   "source": [
    "df['positionOrder'] = pd.to_numeric(df['positionOrder'], errors='coerce')\n",
    "df['points'] = pd.to_numeric(df['points'], errors='coerce')\n",
    "df['fastest_lap_rank'] = pd.to_numeric(df['fastest_lap_rank'], errors='coerce')\n",
    "df['DNF'] = df['statusId'].apply(lambda x: 1 if x != 1 else 0)\n",
    "\n",
    "# Preview Data\n",
    "print(df.head())"
   ]
  },
  {
   "cell_type": "code",
   "execution_count": null,
   "metadata": {},
   "outputs": [],
   "source": [
    "driver_stats = df.groupby('driver').agg(\n",
    "    total_races=('raceId', 'nunique'),\n",
    "    total_wins=('positionOrder', lambda x: (x == 1).sum()),\n",
    "    total_podiums=('positionOrder', lambda x: (x <= 3).sum()),\n",
    "    avg_points=('points', 'mean'),\n",
    "    avg_finish=('positionOrder', 'mean'),\n",
    "    pole_positions=('grid', lambda x: (x == 1).sum()),\n",
    "    fastest_laps=('fastest_lap_rank', lambda x: (x == 1).sum()),\n",
    "    dnf_count=('DNF', 'sum')\n",
    ").reset_index()\n",
    "\n",
    "driver_stats['win_rate'] = driver_stats['total_wins'] / driver_stats['total_races']\n",
    "driver_stats['podium_rate'] = driver_stats['total_podiums'] / driver_stats['total_races']\n",
    "driver_stats['dnf_rate'] = driver_stats['dnf_count'] / driver_stats['total_races']\n",
    "\n",
    "driver_stats.sort_values(by=['total_wins','avg_points'],ascending=[False,False],inplace=True)\n",
    "print(driver_stats.head())\n"
   ]
  },
  {
   "cell_type": "code",
   "execution_count": null,
   "metadata": {},
   "outputs": [],
   "source": [
    "race_threshold = 100  \n",
    "\n",
    "filtered_driver_stats = driver_stats[driver_stats['total_races'] >= race_threshold].copy()\n",
    "\n",
    "filtered_driver_stats.sort_values(by=['total_wins', 'avg_points'], ascending=[False, False], inplace=True)\n",
    "\n",
    "print(filtered_driver_stats)\n"
   ]
  },
  {
   "cell_type": "code",
   "execution_count": null,
   "metadata": {},
   "outputs": [],
   "source": [
    "\n",
    "\n",
    "plt.figure(figsize=(12, 7))\n",
    "sns.scatterplot(data=filtered_driver_stats.head(20), x='total_races', y='total_wins', hue='driver', s=100, palette='Spectral')\n",
    "plt.title('Wins vs. Total Races (Drivers Above Threshold)')\n",
    "plt.xlabel('Total Races')\n",
    "plt.ylabel('Total Wins')\n",
    "plt.legend(title='Driver', bbox_to_anchor=(1.05, 1), loc='upper left')\n",
    "plt.grid(True)\n",
    "plt.show()\n"
   ]
  },
  {
   "cell_type": "code",
   "execution_count": null,
   "metadata": {},
   "outputs": [],
   "source": [
    "# Define weights for each metric based on importance\n",
    "weights = {\n",
    "    'win_rate': 0.5,\n",
    "    'podium_rate': 0.4,\n",
    "    'avg_points': 0.25,\n",
    "    'dnf_rate': -0.1  # Negative weight for DNFs\n",
    "}\n",
    "\n",
    "# Calculate composite score\n",
    "filtered_driver_stats['score'] = (\n",
    "    filtered_driver_stats['win_rate'] * weights['win_rate'] +\n",
    "    filtered_driver_stats['podium_rate'] * weights['podium_rate'] +\n",
    "    filtered_driver_stats['avg_points'] * weights['avg_points'] +\n",
    "    filtered_driver_stats['dnf_rate'] * weights['dnf_rate']\n",
    ")\n",
    "\n",
    "# Sort by score\n",
    "best_lineup = filtered_driver_stats.sort_values(by='score', ascending=False).head(10)  # Top 5 drivers\n",
    "print(best_lineup[['driver', 'score', 'win_rate', 'avg_points', 'dnf_rate']])\n"
   ]
  },
  {
   "cell_type": "code",
   "execution_count": null,
   "metadata": {},
   "outputs": [],
   "source": []
  }
 ],
 "metadata": {
  "kernelspec": {
   "display_name": "dpl",
   "language": "python",
   "name": "python3"
  },
  "language_info": {
   "codemirror_mode": {
    "name": "ipython",
    "version": 3
   },
   "file_extension": ".py",
   "mimetype": "text/x-python",
   "name": "python",
   "nbconvert_exporter": "python",
   "pygments_lexer": "ipython3",
   "version": "3.12.3"
  }
 },
 "nbformat": 4,
 "nbformat_minor": 2
}
