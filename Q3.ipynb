{
 "cells": [
  {
   "cell_type": "code",
   "execution_count": 18,
   "metadata": {},
   "outputs": [],
   "source": [
    "#subproblem 3\n",
    "import pandas as pd\n",
    "\n",
    "# Load datasets\n",
    "pit_stops = pd.read_csv(\"pit_stops.csv\")\n",
    "results = pd.read_csv(\"results.csv\")\n",
    "races = pd.read_csv(\"races.csv\")\n",
    "drivers = pd.read_csv(\"drivers.csv\")\n",
    "constructors = pd.read_csv(\"constructors.csv\")\n",
    "\n",
    "# Merge datasets to get race results with pit stop data\n",
    "merged_data = pit_stops.merge(results, on=['raceId', 'driverId'], how='left')\n",
    "merged_data = merged_data.merge(races, on='raceId', how='left')\n",
    "merged_data = merged_data.merge(drivers, on='driverId', how='left')\n",
    "merged_data = merged_data.merge(constructors, on='constructorId', how='left')\n",
    "\n",
    "# Instead of selecting columns, rename the relevant columns\n",
    "# to match the desired names for analysis\n",
    "merged_data = merged_data.rename(columns={\n",
    "    'name_y': 'name',  # Assuming 'name_y' is the constructor name\n",
    "    'milliseconds_x': 'milliseconds'  # Assuming 'milliseconds_x' is from pit_stops\n",
    "})\n",
    "\n",
    "# Now you can select the columns as intended\n",
    "merged_data = merged_data[['raceId', 'year', 'round', 'circuitId', 'driverId', 'surname','constructorId', 'name', 'positionOrder', 'lap', 'milliseconds']]"
   ]
  },
  {
   "cell_type": "code",
   "execution_count": 19,
   "metadata": {},
   "outputs": [
    {
     "name": "stdout",
     "output_type": "stream",
     "text": [
      "    positionOrder  total_pit_stops\n",
      "0               1         1.936842\n",
      "1               2         1.940351\n",
      "2               3         1.996491\n",
      "3               4         2.042105\n",
      "4               5         2.010526\n",
      "5               6         1.971930\n",
      "6               7         1.975439\n",
      "7               8         1.940351\n",
      "8               9         2.007018\n",
      "9              10         2.007042\n",
      "10             11         2.042105\n",
      "11             12         2.084211\n",
      "12             13         2.154386\n",
      "13             14         2.176056\n",
      "14             15         2.212014\n",
      "15             16         2.194245\n",
      "16             17         2.162963\n",
      "17             18         2.091286\n",
      "18             19         2.053659\n",
      "19             20         1.767742\n",
      "20             21         1.927536\n",
      "21             22         2.040816\n",
      "22             23         1.782609\n",
      "23             24         1.500000\n"
     ]
    }
   ],
   "source": [
    "#check how many pit stops correlate with top 3 finishes vs. mid-field vs. bottom finishes.\n",
    "# Count the number of pit stops per driver in each race\n",
    "pit_stop_counts = merged_data.groupby(['raceId', 'driverId'])['lap'].count().reset_index()\n",
    "pit_stop_counts.rename(columns={'lap': 'total_pit_stops'}, inplace=True)\n",
    "\n",
    "# Merge with finishing positions\n",
    "pit_stop_analysis = pit_stop_counts.merge(results[['raceId', 'driverId', 'positionOrder']],\n",
    "                                          on=['raceId', 'driverId'], how='left')\n",
    "\n",
    "# Average pit stops for different finishing groups\n",
    "optimal_pit_stops = pit_stop_analysis.groupby('positionOrder')['total_pit_stops'].mean().reset_index()\n",
    "pit_stop_counts['total_pit_stops'] = pit_stop_counts['total_pit_stops'].astype(int)\n",
    "print(optimal_pit_stops)\n"
   ]
  },
  {
   "cell_type": "code",
   "execution_count": 20,
   "metadata": {},
   "outputs": [
    {
     "name": "stdout",
     "output_type": "stream",
     "text": [
      "  race_phase  positionOrder\n",
      "0      Early      10.763084\n",
      "1       Late       9.847561\n",
      "2        Mid      10.285337\n"
     ]
    }
   ],
   "source": [
    "#if early, mid, or late-race pit stops affect race outcomes.\n",
    "import numpy as np\n",
    "# Categorize pit stops into Early (1st 30% laps), Mid (30%-70%), Late (Last 30%)\n",
    "merged_data['race_phase'] = np.where(merged_data['lap'] <= merged_data['lap'].max() * 0.3, 'Early',\n",
    "                                     np.where(merged_data['lap'] <= merged_data['lap'].max() * 0.7, 'Mid', 'Late'))\n",
    "\n",
    "# Average finishing positions for each pit stop timing strategy\n",
    "pit_stop_timing_analysis = merged_data.groupby('race_phase')['positionOrder'].mean().reset_index()\n",
    "print(pit_stop_timing_analysis)\n"
   ]
  },
  {
   "cell_type": "code",
   "execution_count": 21,
   "metadata": {},
   "outputs": [
    {
     "name": "stdout",
     "output_type": "stream",
     "text": [
      "           name  milliseconds\n",
      "21       Virgin  24236.194805\n",
      "9         Lotus  24444.211765\n",
      "10     Lotus F1  32463.750877\n",
      "7           HRT  32677.766667\n",
      "4      Caterham  33924.618257\n",
      "12     Marussia  34396.836910\n",
      "20   Toro Rosso  44486.983895\n",
      "6   Force India  50845.770115\n",
      "19       Sauber  57248.313559\n",
      "18      Renault  63261.833747\n"
     ]
    }
   ],
   "source": [
    "#which teams perform the fastest stops\n",
    "# Get average pit stop time per team\n",
    "team_pit_stop_efficiency = merged_data.groupby('name')['milliseconds'].mean().reset_index()\n",
    "team_pit_stop_efficiency = team_pit_stop_efficiency.sort_values(by='milliseconds')\n",
    "\n",
    "print(team_pit_stop_efficiency.head(10))  # Fastest teams\n"
   ]
  },
  {
   "cell_type": "code",
   "execution_count": 22,
   "metadata": {},
   "outputs": [
    {
     "name": "stdout",
     "output_type": "stream",
     "text": [
      "    positionOrder  total_pit_time\n",
      "0               1   270354.079710\n",
      "1               2   268391.956600\n",
      "2               3   275959.753954\n",
      "3               4   255518.262887\n",
      "4               5   283003.642234\n",
      "5               6   269636.674377\n",
      "6               7   290056.394316\n",
      "7               8   291178.566004\n",
      "8               9   292165.466783\n",
      "9              10   295010.373684\n",
      "10             11   310639.190722\n",
      "11             12   274444.639731\n",
      "12             13   271572.366450\n",
      "13             14   266147.377023\n",
      "14             15   246142.450479\n",
      "15             16   258378.580328\n",
      "16             17   231116.962329\n",
      "17             18   147127.962302\n",
      "18             19   120115.859857\n",
      "19             20    87780.251825\n",
      "20             21    96614.285714\n",
      "21             22    95659.650000\n",
      "22             23    54781.951220\n",
      "23             24    42561.476190\n"
     ]
    }
   ],
   "source": [
    "#whether fast pit stops improve finishing positions.\n",
    "# Merge pit stop data with results\n",
    "merged_data['total_pit_time'] = merged_data.groupby(['raceId', 'driverId'])['milliseconds'].transform('sum')\n",
    "\n",
    "# Average pit stop time per finishing position\n",
    "pit_stop_impact = merged_data.groupby('positionOrder')['total_pit_time'].mean().reset_index()\n",
    "\n",
    "print(pit_stop_impact)\n"
   ]
  },
  {
   "cell_type": "code",
   "execution_count": null,
   "metadata": {},
   "outputs": [],
   "source": [
    "'''\n",
    "Interpretations\n",
    "Optimal pit stop count – Likely 1-2 stops for podium finishes, 3+ for midfield/bottom.\n",
    "Timing impact – Early stops may be bad, mid-race or late stops could be better.\n",
    "Fastest pit crews – Top teams have 2.0-2.5s stops, others might lose 1-2s per stop.\n",
    "Pit stop efficiency and finishing position – Slower pit stops can ruin race chances.'''"
   ]
  }
 ],
 "metadata": {
  "kernelspec": {
   "display_name": "dpl",
   "language": "python",
   "name": "python3"
  },
  "language_info": {
   "codemirror_mode": {
    "name": "ipython",
    "version": 3
   },
   "file_extension": ".py",
   "mimetype": "text/x-python",
   "name": "python",
   "nbconvert_exporter": "python",
   "pygments_lexer": "ipython3",
   "version": "3.12.3"
  }
 },
 "nbformat": 4,
 "nbformat_minor": 2
}
