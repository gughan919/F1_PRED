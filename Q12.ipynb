{
 "cells": [
  {
   "cell_type": "code",
   "execution_count": 127,
   "metadata": {},
   "outputs": [
    {
     "name": "stdout",
     "output_type": "stream",
     "text": [
      "   resultId  raceId  driverId  constructorId number  grid position  \\\n",
      "0         1      18         1              1     22     1        1   \n",
      "1         2      18         2              2      3     5        2   \n",
      "2         3      18         3              3      7     7        3   \n",
      "3         4      18         4              4      5    11        4   \n",
      "4         5      18         5              1     23     3        5   \n",
      "\n",
      "  positionText  positionOrder  points  laps         time milliseconds  \\\n",
      "0            1              1    10.0    58  1:34:50.616      5690616   \n",
      "1            2              2     8.0    58       +5.478      5696094   \n",
      "2            3              3     6.0    58       +8.163      5698779   \n",
      "3            4              4     5.0    58      +17.181      5707797   \n",
      "4            5              5     4.0    58      +18.014      5708630   \n",
      "\n",
      "  fastestLap rank fastestLapTime fastestLapSpeed  statusId  \n",
      "0         39    2       1:27.452         218.300         1  \n",
      "1         41    3       1:27.739         217.586         1  \n",
      "2         41    5       1:28.090         216.719         1  \n",
      "3         58    7       1:28.603         215.464         1  \n",
      "4         43    1       1:27.418         218.385         1  \n",
      "   raceId  year  round  circuitId                   name        date  \\\n",
      "0       1  2009      1          1  Australian Grand Prix  2009-03-29   \n",
      "1       2  2009      2          2   Malaysian Grand Prix  2009-04-05   \n",
      "2       3  2009      3         17     Chinese Grand Prix  2009-04-19   \n",
      "3       4  2009      4          3     Bahrain Grand Prix  2009-04-26   \n",
      "4       5  2009      5          4     Spanish Grand Prix  2009-05-10   \n",
      "\n",
      "       time                                                url fp1_date  \\\n",
      "0  06:00:00  http://en.wikipedia.org/wiki/2009_Australian_G...       \\N   \n",
      "1  09:00:00  http://en.wikipedia.org/wiki/2009_Malaysian_Gr...       \\N   \n",
      "2  07:00:00  http://en.wikipedia.org/wiki/2009_Chinese_Gran...       \\N   \n",
      "3  12:00:00  http://en.wikipedia.org/wiki/2009_Bahrain_Gran...       \\N   \n",
      "4  12:00:00  http://en.wikipedia.org/wiki/2009_Spanish_Gran...       \\N   \n",
      "\n",
      "  fp1_time fp2_date fp2_time fp3_date fp3_time quali_date quali_time  \\\n",
      "0       \\N       \\N       \\N       \\N       \\N         \\N         \\N   \n",
      "1       \\N       \\N       \\N       \\N       \\N         \\N         \\N   \n",
      "2       \\N       \\N       \\N       \\N       \\N         \\N         \\N   \n",
      "3       \\N       \\N       \\N       \\N       \\N         \\N         \\N   \n",
      "4       \\N       \\N       \\N       \\N       \\N         \\N         \\N   \n",
      "\n",
      "  sprint_date sprint_time  \n",
      "0          \\N          \\N  \n",
      "1          \\N          \\N  \n",
      "2          \\N          \\N  \n",
      "3          \\N          \\N  \n",
      "4          \\N          \\N  \n",
      "   constructorId constructorRef        name nationality  \\\n",
      "0              1        mclaren     McLaren     British   \n",
      "1              2     bmw_sauber  BMW Sauber      German   \n",
      "2              3       williams    Williams     British   \n",
      "3              4        renault     Renault      French   \n",
      "4              5     toro_rosso  Toro Rosso     Italian   \n",
      "\n",
      "                                                 url  \n",
      "0               http://en.wikipedia.org/wiki/McLaren  \n",
      "1            http://en.wikipedia.org/wiki/BMW_Sauber  \n",
      "2  http://en.wikipedia.org/wiki/Williams_Grand_Pr...  \n",
      "3  http://en.wikipedia.org/wiki/Renault_in_Formul...  \n",
      "4   http://en.wikipedia.org/wiki/Scuderia_Toro_Rosso  \n"
     ]
    }
   ],
   "source": [
    "import pandas as pd\n",
    "\n",
    "results = pd.read_csv('results.csv')         # Contains race outcomes\n",
    "races = pd.read_csv('races.csv')             # Contains race dates & circuits\n",
    "constructors = pd.read_csv('constructors.csv')  # Team info\n",
    "drivers = pd.read_csv('drivers.csv')         # Driver info\n",
    "status = pd.read_csv('status.csv')           # Status codes (for DNFs)\n",
    "\n",
    "print(results.head())\n",
    "print(races.head())\n",
    "print(constructors.head())\n"
   ]
  },
  {
   "cell_type": "code",
   "execution_count": 128,
   "metadata": {},
   "outputs": [
    {
     "name": "stdout",
     "output_type": "stream",
     "text": [
      "   resultId  raceId  driverId  constructorId number  grid position  \\\n",
      "0         1      18         1              1     22     1        1   \n",
      "1         2      18         2              2      3     5        2   \n",
      "2         3      18         3              3      7     7        3   \n",
      "3         4      18         4              4      5    11        4   \n",
      "4         5      18         5              1     23     3        5   \n",
      "\n",
      "  positionText  positionOrder  points  ...  fastestLapTime fastestLapSpeed  \\\n",
      "0            1              1    10.0  ...        1:27.452         218.300   \n",
      "1            2              2     8.0  ...        1:27.739         217.586   \n",
      "2            3              3     6.0  ...        1:28.090         216.719   \n",
      "3            4              4     5.0  ...        1:28.603         215.464   \n",
      "4            5              5     4.0  ...        1:27.418         218.385   \n",
      "\n",
      "  statusId  year circuitId              race_name constructor_name  \\\n",
      "0        1  2008         1  Australian Grand Prix          McLaren   \n",
      "1        1  2008         1  Australian Grand Prix       BMW Sauber   \n",
      "2        1  2008         1  Australian Grand Prix         Williams   \n",
      "3        1  2008         1  Australian Grand Prix          Renault   \n",
      "4        1  2008         1  Australian Grand Prix          McLaren   \n",
      "\n",
      "   driver_first_name  driver_last_name  race_status  \n",
      "0              Lewis          Hamilton     Finished  \n",
      "1               Nick          Heidfeld     Finished  \n",
      "2               Nico           Rosberg     Finished  \n",
      "3           Fernando            Alonso     Finished  \n",
      "4             Heikki        Kovalainen     Finished  \n",
      "\n",
      "[5 rows x 25 columns]\n"
     ]
    }
   ],
   "source": [
    "df = pd.merge(results, races[['raceId', 'year', 'circuitId', 'name']], on='raceId', how='left')\n",
    "\n",
    "df = pd.merge(df, constructors[['constructorId', 'name']], on='constructorId', how='left', suffixes=('', '_constructor'))\n",
    "\n",
    "df = pd.merge(df, drivers[['driverId', 'forename', 'surname']], on='driverId', how='left')\n",
    "\n",
    "df = pd.merge(df, status, on='statusId', how='left')\n",
    "\n",
    "df.rename(columns={\n",
    "    'name': 'race_name',\n",
    "    'name_constructor': 'constructor_name',\n",
    "    'forename': 'driver_first_name',\n",
    "    'surname': 'driver_last_name',\n",
    "    'status': 'race_status'\n",
    "}, inplace=True)\n",
    "print(df.head())\n"
   ]
  },
  {
   "cell_type": "code",
   "execution_count": 129,
   "metadata": {},
   "outputs": [
    {
     "name": "stdout",
     "output_type": "stream",
     "text": [
      "   year constructor_name  points  dnf              race_name\n",
      "0  2008          McLaren    10.0    0  Australian Grand Prix\n",
      "1  2008       BMW Sauber     8.0    0  Australian Grand Prix\n",
      "2  2008         Williams     6.0    0  Australian Grand Prix\n",
      "3  2008          Renault     5.0    0  Australian Grand Prix\n",
      "4  2008          McLaren     4.0    0  Australian Grand Prix\n"
     ]
    }
   ],
   "source": [
    "df['dnf'] = df['statusId'].apply(lambda x: 0 if x == 1 else 1)\n",
    "\n",
    "df['year'] = pd.to_numeric(df['year'], errors='coerce')\n",
    "\n",
    "df.dropna(subset=['year', 'constructor_name', 'points'], inplace=True)\n",
    "\n",
    "print(df[['year', 'constructor_name', 'points', 'dnf', 'race_name']].head())\n"
   ]
  },
  {
   "cell_type": "code",
   "execution_count": 130,
   "metadata": {},
   "outputs": [
    {
     "name": "stdout",
     "output_type": "stream",
     "text": [
      "   year constructor_name  total_points  total_dnfs  total_races  \\\n",
      "0  1950            Adams           0.0           2            1   \n",
      "1  1950       Alfa Romeo          89.0           9            6   \n",
      "2  1950             Alta           0.0           3            2   \n",
      "3  1950           Cooper           0.0           1            1   \n",
      "4  1950            Deidt          10.0           3            1   \n",
      "\n",
      "   total_podiums  avg_points_per_race  dnf_rate  \n",
      "0              0             0.000000       2.0  \n",
      "1             12            14.833333       1.5  \n",
      "2              0             0.000000       1.5  \n",
      "3              0             0.000000       1.0  \n",
      "4              2            10.000000       3.0  \n"
     ]
    }
   ],
   "source": [
    "team_stats = df.groupby(['year', 'constructor_name']).agg({\n",
    "    'points': 'sum',\n",
    "    'dnf': 'sum',\n",
    "    'raceId': 'nunique',  # Total races\n",
    "    'positionOrder': lambda x: (x <= 3).sum()  # Total podiums\n",
    "}).reset_index()\n",
    "\n",
    "team_stats.rename(columns={\n",
    "    'points': 'total_points',\n",
    "    'dnf': 'total_dnfs',\n",
    "    'raceId': 'total_races',\n",
    "    'positionOrder': 'total_podiums'\n",
    "}, inplace=True)\n",
    "\n",
    "team_stats['avg_points_per_race'] = team_stats['total_points'] / team_stats['total_races']\n",
    "team_stats['dnf_rate'] = team_stats['total_dnfs'] / team_stats['total_races']\n",
    "\n",
    "# ✅ Preview Aggregated Data\n",
    "print(team_stats.head())\n"
   ]
  },
  {
   "cell_type": "code",
   "execution_count": 131,
   "metadata": {},
   "outputs": [
    {
     "name": "stdout",
     "output_type": "stream",
     "text": [
      "      year constructor_name  total_points  total_dnfs  total_races  \\\n",
      "0     1950            Adams           0.0           2            1   \n",
      "1     1950       Alfa Romeo          89.0           9            6   \n",
      "2     1950             Alta           0.0           3            2   \n",
      "3     1950           Cooper           0.0           1            1   \n",
      "4     1950            Deidt          10.0           3            1   \n",
      "...    ...              ...           ...         ...          ...   \n",
      "1106  2024         Mercedes         433.0           5           24   \n",
      "1107  2024       RB F1 Team          40.0          29           24   \n",
      "1108  2024         Red Bull         537.0           9           24   \n",
      "1109  2024           Sauber           4.0          37           24   \n",
      "1110  2024         Williams          17.0          33           24   \n",
      "\n",
      "      total_podiums  avg_points_per_race  dnf_rate  prev_points  \\\n",
      "0                 0             0.000000  2.000000          0.0   \n",
      "1                12            14.833333  1.500000          0.0   \n",
      "2                 0             0.000000  1.500000          0.0   \n",
      "3                 0             0.000000  1.000000          0.0   \n",
      "4                 2            10.000000  3.000000          0.0   \n",
      "...             ...                  ...       ...          ...   \n",
      "1106              9            18.041667  0.208333        374.0   \n",
      "1107              0             1.666667  1.208333          0.0   \n",
      "1108             18            22.375000  0.375000        790.0   \n",
      "1109              0             0.166667  1.541667         48.0   \n",
      "1110              0             0.708333  1.375000         26.0   \n",
      "\n",
      "      points_change  points_change_pct  underperformed  \n",
      "0               0.0           0.000000               0  \n",
      "1               0.0           0.000000               0  \n",
      "2               0.0           0.000000               0  \n",
      "3               0.0           0.000000               0  \n",
      "4               0.0           0.000000               0  \n",
      "...             ...                ...             ...  \n",
      "1106           59.0           0.157754               0  \n",
      "1107            0.0           0.000000               0  \n",
      "1108         -253.0          -0.320253               0  \n",
      "1109          -44.0          -0.916667               1  \n",
      "1110           -9.0          -0.346154               1  \n",
      "\n",
      "[1111 rows x 12 columns]\n"
     ]
    }
   ],
   "source": [
    "# Calculate Year-over-Year Change in Performance\n",
    "team_stats['prev_points'] = team_stats.groupby('constructor_name')['total_points'].shift(1)\n",
    "team_stats['points_change'] = team_stats['total_points'] - team_stats['prev_points']\n",
    "team_stats['points_change_pct'] = team_stats['points_change'] / team_stats['prev_points']\n",
    "\n",
    "# Fill NaN for first season entries\n",
    "team_stats.fillna(0, inplace=True)\n",
    "\n",
    "# Label Underperformance (Historical)\n",
    "# Teams with negative growth & low avg points\n",
    "team_stats['underperformed'] = ((team_stats['points_change_pct'] < -0.1) & \n",
    "                                (team_stats['avg_points_per_race'] < team_stats['avg_points_per_race'].mean())).astype(int)\n",
    "\n",
    "# Preview Data\n",
    "print(team_stats)\n"
   ]
  },
  {
   "cell_type": "code",
   "execution_count": 132,
   "metadata": {},
   "outputs": [
    {
     "name": "stdout",
     "output_type": "stream",
     "text": [
      "      avg_points_per_race  dnf_rate  total_podiums\n",
      "0                0.000000  2.000000              0\n",
      "1               14.833333  1.500000             12\n",
      "2                0.000000  1.500000              0\n",
      "3                0.000000  1.000000              0\n",
      "4               10.000000  3.000000              2\n",
      "...                   ...       ...            ...\n",
      "1106            18.041667  0.208333              9\n",
      "1107             1.666667  1.208333              0\n",
      "1108            22.375000  0.375000             18\n",
      "1109             0.166667  1.541667              0\n",
      "1110             0.708333  1.375000              0\n",
      "\n",
      "[1111 rows x 3 columns]\n",
      "0       0\n",
      "1       0\n",
      "2       0\n",
      "3       0\n",
      "4       0\n",
      "       ..\n",
      "1106    0\n",
      "1107    0\n",
      "1108    0\n",
      "1109    1\n",
      "1110    1\n",
      "Name: underperformed, Length: 1111, dtype: int64\n",
      "Accuracy: 0.7544910179640718\n",
      "              precision    recall  f1-score   support\n",
      "\n",
      "           0       0.81      0.89      0.85       258\n",
      "           1       0.44      0.29      0.35        76\n",
      "\n",
      "    accuracy                           0.75       334\n",
      "   macro avg       0.62      0.59      0.60       334\n",
      "weighted avg       0.73      0.75      0.74       334\n",
      "\n"
     ]
    }
   ],
   "source": [
    "from sklearn.ensemble import RandomForestClassifier\n",
    "from sklearn.model_selection import train_test_split\n",
    "from sklearn.metrics import accuracy_score, classification_report\n",
    "import numpy as np\n",
    "# Select Features and Target\n",
    "features = ['avg_points_per_race', 'dnf_rate', 'total_podiums']\n",
    "target = 'underperformed'\n",
    "\n",
    "X = team_stats[features]\n",
    "y = team_stats[target]\n",
    "print(X)\n",
    "print(y)\n",
    "# Train-Test Split\n",
    "X_train, X_test, y_train, y_test = train_test_split(X, y, test_size=0.3, random_state=42)\n",
    "X_train.replace([np.inf, -np.inf], np.nan, inplace=True)\n",
    "X_test.replace([np.inf, -np.inf], np.nan, inplace=True)\n",
    "\n",
    "# Fill NaN values with 0 (or use another imputation strategy)\n",
    "X_train.fillna(0, inplace=True)\n",
    "X_test.fillna(0, inplace=True)\n",
    "\n",
    "# Now fit the model\n",
    "# Initialize Random Forest Classifier\n",
    "rf_model = RandomForestClassifier(n_estimators=100, random_state=42)\n",
    "rf_model.fit(X_train, y_train)\n",
    "\n",
    "# Evaluate Model\n",
    "y_pred = rf_model.predict(X_test)\n",
    "print(\"Accuracy:\", accuracy_score(y_test, y_pred))\n",
    "print(classification_report(y_test, y_pred))\n"
   ]
  },
  {
   "cell_type": "code",
   "execution_count": 133,
   "metadata": {},
   "outputs": [
    {
     "data": {
      "image/png": "[encoded data removed]",
      "text/plain": [
       "<Figure size 1000x800 with 2 Axes>"
      ]
     },
     "metadata": {},
     "output_type": "display_data"
    }
   ],
   "source": [
    "# Check for highly correlated features\n",
    "import seaborn as sns\n",
    "import matplotlib.pyplot as plt\n",
    "\n",
    "plt.figure(figsize=(10, 8))\n",
    "sns.heatmap(pd.DataFrame(X_train).corr(), annot=True, cmap='coolwarm')\n",
    "plt.title('Feature Correlation Matrix')\n",
    "plt.show()\n"
   ]
  },
  {
   "cell_type": "code",
   "execution_count": 134,
   "metadata": {},
   "outputs": [
    {
     "name": "stdout",
     "output_type": "stream",
     "text": [
      "Training Accuracy: 0.9472329472329473\n",
      "Test Accuracy: 0.7544910179640718\n"
     ]
    }
   ],
   "source": [
    "# Evaluate on Training Set\n",
    "y_train_pred = rf_model.predict(X_train)\n",
    "from sklearn.metrics import accuracy_score\n",
    "\n",
    "train_accuracy = accuracy_score(y_train, y_train_pred)\n",
    "print(\"Training Accuracy:\", train_accuracy)\n",
    "\n",
    "# Evaluate on Test Set (Already Done)\n",
    "y_test_pred = rf_model.predict(X_test)\n",
    "test_accuracy = accuracy_score(y_test, y_test_pred)\n",
    "print(\"Test Accuracy:\", test_accuracy)\n"
   ]
  },
  {
   "cell_type": "code",
   "execution_count": 135,
   "metadata": {},
   "outputs": [
    {
     "name": "stdout",
     "output_type": "stream",
     "text": [
      "Cross-Validation Scores: [0.76282051 0.73717949 0.8        0.78064516 0.76774194]\n",
      "Average CV Score: 0.7696774193548387\n"
     ]
    }
   ],
   "source": [
    "from sklearn.model_selection import cross_val_score\n",
    "\n",
    "# Cross-Validation (5-fold)\n",
    "cv_scores = cross_val_score(rf_model, X_train, y_train, cv=5)\n",
    "\n",
    "print(\"Cross-Validation Scores:\", cv_scores)\n",
    "print(\"Average CV Score:\", cv_scores.mean())\n"
   ]
  },
  {
   "cell_type": "code",
   "execution_count": 136,
   "metadata": {},
   "outputs": [
    {
     "name": "stdout",
     "output_type": "stream",
     "text": [
      "     constructor_name  underperformance_risk  avg_points_per_race  dnf_rate\n",
      "1109           Sauber                   0.86             0.166667  1.541667\n",
      "1110         Williams                   0.79             0.708333  1.375000\n",
      "1101   Alpine F1 Team                   0.48             2.625000  1.250000\n",
      "1104     Haas F1 Team                   0.33             2.125000  0.875000\n",
      "1102     Aston Martin                   0.06             3.916667  0.916667\n",
      "1107       RB F1 Team                   0.06             1.666667  1.208333\n",
      "1106         Mercedes                   0.00            18.041667  0.208333\n",
      "1105          McLaren                   0.00            25.375000  0.041667\n",
      "1103          Ferrari                   0.00            24.791667  0.208333\n",
      "1108         Red Bull                   0.00            22.375000  0.375000\n"
     ]
    },
    {
     "name": "stderr",
     "output_type": "stream",
     "text": [
      "/tmp/ipykernel_228509/4265471269.py:8: SettingWithCopyWarning: \n",
      "A value is trying to be set on a copy of a slice from a DataFrame.\n",
      "Try using .loc[row_indexer,col_indexer] = value instead\n",
      "\n",
      "See the caveats in the documentation: https://pandas.pydata.org/pandas-docs/stable/user_guide/indexing.html#returning-a-view-versus-a-copy\n",
      "  latest_season['underperformance_risk'] = rf_model.predict_proba(X_2025)[:, 1]  # Probability of underperformance\n"
     ]
    }
   ],
   "source": [
    "# Prepare 2024 Data as the Latest Available\n",
    "latest_season = team_stats[team_stats['year'] == 2024]\n",
    "\n",
    "# Drop Target Column for Prediction\n",
    "X_2025 = latest_season[features]\n",
    "\n",
    "# Predict Underperformance\n",
    "latest_season['underperformance_risk'] = rf_model.predict_proba(X_2025)[:, 1]  # Probability of underperformance\n",
    "\n",
    "# Sort by Highest Risk\n",
    "underperformance_ranking = latest_season.sort_values(by='underperformance_risk', ascending=False)\n",
    "\n",
    "# Display Teams Likely to Underperform in 2025\n",
    "print(underperformance_ranking[['constructor_name', 'underperformance_risk', 'avg_points_per_race', 'dnf_rate']])\n"
   ]
  }
 ],
 "metadata": {
  "kernelspec": {
   "display_name": "dpl",
   "language": "python",
   "name": "python3"
  },
  "language_info": {
   "codemirror_mode": {
    "name": "ipython",
    "version": 3
   },
   "file_extension": ".py",
   "mimetype": "text/x-python",
   "name": "python",
   "nbconvert_exporter": "python",
   "pygments_lexer": "ipython3",
   "version": "3.12.3"
  }
 },
 "nbformat": 4,
 "nbformat_minor": 2
}
