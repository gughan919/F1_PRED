{
 "cells": [
  {
   "cell_type": "code",
   "execution_count": null,
   "metadata": {},
   "outputs": [],
   "source": [
    "import pandas as pd\n",
    "import numpy as np\n",
    "import matplotlib.pyplot as plt\n",
    "import seaborn as sns\n",
    "\n",
    "\n",
    "drivers = pd.read_csv('drivers.csv')\n",
    "constructors = pd.read_csv('constructors.csv')\n",
    "results = pd.read_csv('results.csv')\n",
    "races=pd.read_csv('races.csv')\n",
    "imp_df = [constructors, drivers,  results,races]\n",
    "\n",
    "drivers['dob'] = pd.to_datetime(drivers['dob'])\n",
    "for df in imp_df:\n",
    "    df.replace('\\\\N', np.nan, inplace=True)\n",
    "    print(df.dtypes)    \n",
    "    \n",
    "races.drop(columns=['fp1_date', 'fp1_time', 'fp2_date', 'fp2_time', 'fp3_date', 'fp3_time', 'quali_date', 'quali_time', 'sprint_date', 'sprint_time'],inplace=True)\n",
    "\n",
    "df=pd.merge(results,races[['raceId','year','name','round']],on='raceId',how='left')\n",
    "df=pd.merge(df,drivers[['driverId','driverRef','nationality','dob']],on='driverId',how='left')\n",
    "df=pd.merge(df,constructors[['constructorId','constructorRef','name','nationality']],on='constructorId',how='left')\n",
    "df.drop(columns=['number','position','positionText','laps','fastestLap','statusId','resultId','driverId','constructorId'],axis=1,inplace=True)\n",
    "df.rename(columns={'rank':'fastest_lap_rank','name_x':'GP_Name','nationality_x':'driver_nationality','name_y':'constructor_name','nationality_y':'constructors_nationality','driverRef':'driver'},inplace=True)\n",
    "\n",
    "\n"
   ]
  },
  {
   "cell_type": "code",
   "execution_count": null,
   "metadata": {},
   "outputs": [],
   "source": [
    "season_winners = df[df['positionOrder'] == 1].copy()\n",
    "\n",
    "# Calculate Driver Age During Championship Year\n",
    "season_winners['championship_age'] = season_winners['year'] - pd.to_datetime(season_winners['dob']).dt.year\n",
    "\n",
    "# Select Only the Driver with Most Points Per Year\n",
    "season_winners = season_winners.groupby(['year', 'driver', 'dob']).agg({\n",
    "    'points': 'sum',\n",
    "    'championship_age': 'mean'  # Age during the winning season\n",
    "}).reset_index()\n",
    "\n",
    "# Identify True Season Winners (Highest Points in Each Year)\n",
    "season_winners = season_winners.loc[season_winners.groupby('year')['points'].idxmax()].reset_index(drop=True)\n",
    "\n",
    "# Create Age Ranges\n",
    "age_bins = [20, 24, 29, 34, 39, 44, 49, 54]\n",
    "age_labels = ['20-24', '25-29', '30-34', '35-39', '40-44', '45-49', '50-54']\n",
    "season_winners['age_range'] = pd.cut(season_winners['championship_age'], bins=age_bins, labels=age_labels, right=True)\n",
    "\n",
    "# Add Decade Column\n",
    "season_winners['decade'] = (season_winners['year'] // 10) * 10\n",
    "\n",
    "# Preview Data\n",
    "print(season_winners[['year', 'driver', 'championship_age', 'age_range', 'decade']].head(100))"
   ]
  },
  {
   "cell_type": "code",
   "execution_count": null,
   "metadata": {},
   "outputs": [],
   "source": [
    "# Count Championships per Age Range and Decade\n",
    "age_decade_stats = season_winners.groupby(['decade', 'age_range']).size().reset_index(name='championship_wins')\n",
    "\n",
    "# Pivot for Heatmap (Fixed)\n",
    "heatmap_data = age_decade_stats.pivot(index='decade', columns='age_range', values='championship_wins').fillna(0)\n",
    "\n",
    "# Plot Heatmap\n",
    "plt.figure(figsize=(12, 8))\n",
    "sns.heatmap(heatmap_data, annot=True, fmt=\".0f\", cmap='YlOrRd', linewidths=.5)\n",
    "plt.title('Championship Wins by Age Range Across Decades')\n",
    "plt.xlabel('Driver Age Range')\n",
    "plt.ylabel('Decade')\n",
    "plt.show()\n"
   ]
  },
  {
   "cell_type": "code",
   "execution_count": null,
   "metadata": {},
   "outputs": [],
   "source": [
    "age_range_stats = season_winners.groupby('age_range').size().reset_index(name='championship_wins')\n",
    "plt.figure(figsize=(10, 6))\n",
    "sns.barplot(data=age_range_stats, x='age_range', y='championship_wins', palette='viridis')\n",
    "plt.title('Total Championship Wins by Driver Age Range')\n",
    "plt.xlabel('Driver Age Range')\n",
    "plt.ylabel('Number of Championships')\n",
    "plt.show()"
   ]
  },
  {
   "cell_type": "code",
   "execution_count": null,
   "metadata": {},
   "outputs": [],
   "source": [
    "# Prepare Data for Stacked Barplot\n",
    "age_decade_stats = season_winners.groupby(['decade', 'age_range']).size().reset_index(name='championship_wins')\n",
    "pivot_df = age_decade_stats.pivot(index='decade', columns='age_range', values='championship_wins').fillna(0)\n",
    "\n",
    "# Stacked Barplot\n",
    "pivot_df.plot(kind='bar', stacked=True, figsize=(14, 7), colormap='plasma')\n",
    "plt.title('Championship Wins by Age Range per Decade')\n",
    "plt.xlabel('Decade')\n",
    "plt.ylabel('Number of Championships')\n",
    "plt.legend(title='Age Range')\n",
    "plt.show()\n"
   ]
  }
 ],
 "metadata": {
  "kernelspec": {
   "display_name": "dpl",
   "language": "python",
   "name": "python3"
  },
  "language_info": {
   "codemirror_mode": {
    "name": "ipython",
    "version": 3
   },
   "file_extension": ".py",
   "mimetype": "text/x-python",
   "name": "python",
   "nbconvert_exporter": "python",
   "pygments_lexer": "ipython3",
   "version": "3.12.3"
  }
 },
 "nbformat": 4,
 "nbformat_minor": 2
}
