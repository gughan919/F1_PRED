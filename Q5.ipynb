{
 "cells": [
  {
   "cell_type": "code",
   "execution_count": 5,
   "metadata": {},
   "outputs": [],
   "source": [
    "#subproblem 5\n",
    "import pandas as pd\n",
    "\n",
    "# Load datasets\n",
    "drivers_df = pd.read_csv('drivers.csv')\n",
    "constructors_df = pd.read_csv('constructors.csv')\n",
    "driver_standings_df = pd.read_csv('driver_standings.csv')\n",
    "constructor_standings_df = pd.read_csv('constructor_standings.csv')\n",
    "final_df = pd.read_excel('final_df.xlsx')  # Merged dataset\n",
    "\n",
    "\n",
    "# Choose two drivers to swap\n",
    "driver_1 = 'Max Verstappen'  # From Red Bull\n",
    "driver_2 = 'Lewis Hamilton'  # From Mercedes\n",
    "\n",
    "# Get driver IDs (using str.contains for flexible matching)\n",
    "driver_1_id = drivers_df[drivers_df['surname'].str.contains(driver_1.split()[-1])]['driverId'].values[0]  # Get ID using surname\n",
    "driver_2_id = drivers_df[drivers_df['surname'].str.contains(driver_2.split()[-1])]['driverId'].values[0]  # Get ID using surname\n",
    "\n",
    "# Get constructor IDs for Red Bull and Mercedes\n",
    "red_bull_id = constructors_df[constructors_df['name'] == 'Red Bull']['constructorId'].values[0]\n",
    "mercedes_id = constructors_df[constructors_df['name'] == 'Mercedes']['constructorId'].values[0]\n",
    "\n",
    "# Swap constructor affiliations\n",
    "final_df.loc[final_df['driverId'] == driver_1_id, 'constructorId'] = mercedes_id\n",
    "final_df.loc[final_df['driverId'] == driver_2_id, 'constructorId'] = red_bull_id"
   ]
  },
  {
   "cell_type": "code",
   "execution_count": 6,
   "metadata": {},
   "outputs": [
    {
     "name": "stdout",
     "output_type": "stream",
     "text": [
      "\n",
      " Updated Driver Standings:\n",
      "        driverStandingsId  raceId  driverId  points  position positionText  \\\n",
      "31135              67919     963         1   265.0         2            2   \n",
      "31847              68770     995         1   120.0         2            2   \n",
      "33124              70451    1060         1   150.0         2            2   \n",
      "33125              70471    1061         1   177.0         2            2   \n",
      "34601              72878    1133         1   125.0         6            6   \n",
      "28534              64481     846         1    85.0         2            2   \n",
      "33646              71524    1085         1   127.0         6            6   \n",
      "30195              66851     910         1   191.0         2            2   \n",
      "30217              66873     911         1   191.0         2            2   \n",
      "32507              69690    1028         1   381.0         1            1   \n",
      "\n",
      "       wins  new_points  \n",
      "31135     6    3.214925  \n",
      "31847     2    3.214925  \n",
      "33124     3    3.214925  \n",
      "33125     4    3.214925  \n",
      "34601     1    3.214925  \n",
      "28534     1    3.214925  \n",
      "33646     0    3.214925  \n",
      "30195     5    3.214925  \n",
      "30217     5    3.214925  \n",
      "32507    10    3.214925  \n"
     ]
    }
   ],
   "source": [
    "\n",
    "from sklearn.ensemble import RandomForestRegressor\n",
    "from sklearn.metrics import mean_absolute_error, r2_score\n",
    "\n",
    "# Assuming final_df is loaded correctly before this cell\n",
    "\n",
    "# Define X and y\n",
    "# 'positionOrder' is the correct column name in your final_df for finishing position\n",
    "X = final_df.drop(columns=['position'])  # Features, corrected column name\n",
    "y = final_df['position']                # Target, corrected column name             # Target, corrected column name\n",
    "\n",
    "# Train Random Forest Model\n",
    "rf_model = RandomForestRegressor(n_estimators=200, max_depth=10, random_state=42)\n",
    "rf_model.fit(X, y)\n",
    "\n",
    "# Predict finishing positions and add the column to final_df\n",
    "final_df['new_predicted_position'] = rf_model.predict(X)\n",
    "\n",
    "# Now, proceed with updating driver points:\n",
    "driver_standings_df['new_points'] = driver_standings_df['driverId'].map(\n",
    "    final_df.groupby('driverId')['new_predicted_position'].mean()\n",
    ")\n",
    "\n",
    "# Sort drivers based on new points\n",
    "driver_standings_df = driver_standings_df.sort_values('new_points', ascending=True)\n",
    "\n",
    "print(\"\\n Updated Driver Standings:\\n\", driver_standings_df.head(10))"
   ]
  }
 ],
 "metadata": {
  "kernelspec": {
   "display_name": "dpl",
   "language": "python",
   "name": "python3"
  },
  "language_info": {
   "codemirror_mode": {
    "name": "ipython",
    "version": 3
   },
   "file_extension": ".py",
   "mimetype": "text/x-python",
   "name": "python",
   "nbconvert_exporter": "python",
   "pygments_lexer": "ipython3",
   "version": "3.12.3"
  }
 },
 "nbformat": 4,
 "nbformat_minor": 2
}
