{
 "cells": [
  {
   "cell_type": "code",
   "execution_count": null,
   "metadata": {},
   "outputs": [],
   "source": [
    "import pandas as pd\n",
    "import numpy as np\n",
    "import matplotlib.pyplot as plt\n",
    "import seaborn as sns\n",
    "\n",
    "drivers = pd.read_csv('drivers.csv')\n",
    "results = pd.read_csv('results.csv')\n",
    "races=pd.read_csv('races.csv')\n",
    "imp_df = [ drivers,  results,races]\n",
    "\n",
    "\n",
    "for df in imp_df:\n",
    "    df.replace('\\\\N', np.nan, inplace=True)\n",
    "    print(df.dtypes)\n",
    "    \n",
    "\n",
    "df=pd.merge(results,races[['raceId','year','name','round']],on='raceId',how='left')\n",
    "df=pd.merge(df,drivers[['driverId','driverRef','nationality']],on='driverId',how='left')\n",
    "df.drop(columns=['number','position','positionText','laps','fastestLap','resultId','driverId','constructorId'],axis=1,inplace=True)\n",
    "df.rename(columns={'rank':'fastest_lap_rank','name_x':'GP_Name','nationality_x':'driver_nationality','name_y':'constructor_name','nationality_y':'constructors_nationality','driverRef':'driver'},inplace=True)\n"
   ]
  },
  {
   "cell_type": "code",
   "execution_count": null,
   "metadata": {},
   "outputs": [],
   "source": [
    "plt.figure(figsize=(16, 10))\n",
    "\n",
    "# Create a heatmap to visualize null values\n",
    "sns.heatmap(df.isnull(), cbar=False, cmap='viridis', yticklabels=False)\n",
    "\n",
    "# Add title and display the heatmap\n",
    "plt.title('Heatmap of Null Values in Races DataFrame', fontsize=16)\n",
    "plt.show()"
   ]
  },
  {
   "cell_type": "code",
   "execution_count": null,
   "metadata": {},
   "outputs": [],
   "source": [
    "df=df[['driver', 'raceId', 'positionOrder', 'points','statusId']].copy()\n",
    "df.drop_duplicates(inplace=True)\n",
    "plt.figure(figsize=(16, 10))\n",
    "\n",
    "# Create a heatmap to visualize null values\n",
    "sns.heatmap(df.isnull(), cbar=False, cmap='viridis', yticklabels=False)\n",
    "\n",
    "# Add title and display the heatmap\n",
    "plt.title('Heatmap of Null Values in Races DataFrame', fontsize=16)\n",
    "plt.show()"
   ]
  },
  {
   "cell_type": "code",
   "execution_count": null,
   "metadata": {},
   "outputs": [],
   "source": [
    "print(df.head())\n",
    "df.shape"
   ]
  },
  {
   "cell_type": "code",
   "execution_count": null,
   "metadata": {},
   "outputs": [],
   "source": [
    "\n",
    "\n",
    "df_finished = df[df['statusId'] == 1].copy()\n",
    "\n",
    "# Preview Cleaned Data\n",
    "print(f\"Original Rows: {len(df)}\")\n",
    "print(f\"Rows After Dropping DNFs: {len(df_finished)}\")\n",
    "print(df_finished.head())\n",
    "df_finished.shape"
   ]
  },
  {
   "cell_type": "code",
   "execution_count": null,
   "metadata": {},
   "outputs": [],
   "source": [
    "# Step 3: Calculate Driver Performance Metrics\n",
    "driver_performance = df_finished.groupby('driver').agg(\n",
    "    avg_finish=('positionOrder', 'mean'),\n",
    "    finish_std=('positionOrder', 'std'),\n",
    "    total_races=('raceId', 'nunique'),\n",
    "    total_wins=('positionOrder', lambda x: (x == 1).sum()),\n",
    "    total_podiums=('positionOrder', lambda x: (x <= 3).sum()),\n",
    "    top_10_finishes=('positionOrder', lambda x: (x <= 10).sum())\n",
    ").reset_index()\n",
    "\n",
    "\n",
    "# Calculate Top 10 Finish Rate\n",
    "driver_performance['top_10_rate'] = (driver_performance['top_10_finishes'] / driver_performance['total_races']) * 100\n",
    "\n",
    "# Set a minimum race threshold (e.g., 10 races)\n",
    "min_race_threshold = 10\n",
    "\n",
    "#Filter drivers with sufficient race data\n",
    "filtered_driver_performance = driver_performance[driver_performance['total_races'] >= min_race_threshold].copy()\n",
    "\n",
    "#Preview Filtered Data\n",
    "print(filtered_driver_performance.sort_values('avg_finish').head())\n",
    "filtered_driver_performance.shape\n"
   ]
  },
  {
   "cell_type": "code",
   "execution_count": null,
   "metadata": {},
   "outputs": [],
   "source": [
    "\n",
    "# Scatter Plot: Avg Finish vs. Variability (Filtered)\n",
    "plt.figure(figsize=(12, 8))\n",
    "sns.scatterplot(data=filtered_driver_performance, x='avg_finish', y='finish_std', size='total_races',\n",
    "                hue='top_10_rate', palette='coolwarm', legend='brief', sizes=(50, 300))\n",
    "\n",
    "# Highlight key thresholds\n",
    "plt.axvline(x=10, linestyle='--', color='gray', label='Top 10 Finish Line')\n",
    "plt.axhline(y=3, linestyle='--', color='gray', label='Consistency Threshold')\n",
    "\n",
    "plt.title('Driver Consistency Analysis (With Race Threshold)')\n",
    "plt.xlabel('Average Finishing Position (Lower = Better)')\n",
    "plt.ylabel('Standard Deviation of Finish (Lower = More Consistent)')\n",
    "plt.legend(title='Top 10 Finish Rate')\n",
    "plt.show()\n"
   ]
  },
  {
   "cell_type": "code",
   "execution_count": null,
   "metadata": {},
   "outputs": [],
   "source": [
    "consistent_drivers = filtered_driver_performance[(filtered_driver_performance['avg_finish'] <= 8) & (filtered_driver_performance['finish_std'] <= 3)]\n",
    "consistent_drivers.sort_values(by=['total_podiums','top_10_rate'],inplace=True,ascending=[False,False])\n",
    "print(\"Consistent Top Finishers:\")\n",
    "print(consistent_drivers[['driver', 'avg_finish', 'finish_std', 'total_podiums', 'top_10_rate']])\n"
   ]
  },
  {
   "cell_type": "code",
   "execution_count": null,
   "metadata": {},
   "outputs": [],
   "source": [
    "fluctuating_drivers = filtered_driver_performance[filtered_driver_performance['finish_std'] > 3]\n",
    "fluctuating_drivers.sort_values(by=['total_podiums','top_10_rate'],inplace=True,ascending=[False,False])\n",
    "print(\"Fluctuating Performers:\")\n",
    "print(fluctuating_drivers[['driver', 'avg_finish', 'finish_std', 'total_wins', 'top_10_rate']])\n"
   ]
  },
  {
   "cell_type": "code",
   "execution_count": null,
   "metadata": {},
   "outputs": [],
   "source": [
    "\n",
    "# Step 1: Apply Minimum Race Threshold\n",
    "min_race_threshold = 10\n",
    "filtered_driver_performance = driver_performance[driver_performance['total_races'] >= min_race_threshold].copy()\n",
    "\n",
    "# Step 2: Identify Top 20 Consistent and Fluctuating Drivers\n",
    "# Top 20 Consistent: Low avg_finish & low finish_std\n",
    "top_consistent = filtered_driver_performance.sort_values(['avg_finish', 'finish_std']).head(20)\n",
    "\n",
    "# Top 20 Fluctuating: High finish_std\n",
    "top_fluctuating = filtered_driver_performance.sort_values('finish_std', ascending=False).head(20)\n",
    "\n",
    "# Preview\n",
    "print(\"Top 20 Consistent Drivers:\")\n",
    "print(top_consistent[['driver', 'avg_finish', 'finish_std']])\n",
    "\n",
    "print(\"\\n Top 20 Fluctuating Drivers:\")\n",
    "print(top_fluctuating[['driver', 'avg_finish', 'finish_std']])\n"
   ]
  },
  {
   "cell_type": "code",
   "execution_count": null,
   "metadata": {},
   "outputs": [],
   "source": [
    "plt.figure(figsize=(14, 6))\n",
    "sns.barplot(data=top_consistent, x='avg_finish', y='driver', palette='Greens_r')\n",
    "plt.title(' Top 20 Consistent Drivers (Lowest Avg Finish)')\n",
    "plt.xlabel('Average Finishing Position')\n",
    "plt.ylabel('Driver')\n",
    "plt.show()\n"
   ]
  },
  {
   "cell_type": "code",
   "execution_count": null,
   "metadata": {},
   "outputs": [],
   "source": [
    "plt.figure(figsize=(14, 6))\n",
    "sns.barplot(data=top_fluctuating, x='finish_std', y='driver', palette='Reds_r')\n",
    "plt.title('⚡ Top 20 Fluctuating Drivers (Highest Std Deviation)')\n",
    "plt.xlabel('Standard Deviation of Finish')\n",
    "plt.ylabel('Driver')\n",
    "plt.show()\n"
   ]
  }
 ],
 "metadata": {
  "kernelspec": {
   "display_name": "dpl",
   "language": "python",
   "name": "python3"
  },
  "language_info": {
   "codemirror_mode": {
    "name": "ipython",
    "version": 3
   },
   "file_extension": ".py",
   "mimetype": "text/x-python",
   "name": "python",
   "nbconvert_exporter": "python",
   "pygments_lexer": "ipython3",
   "version": "3.12.3"
  }
 },
 "nbformat": 4,
 "nbformat_minor": 2
}
