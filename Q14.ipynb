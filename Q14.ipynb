{
 "cells": [
  {
   "cell_type": "code",
   "execution_count": null,
   "metadata": {},
   "outputs": [],
   "source": [
    "import pandas as pd\n",
    "import numpy as np\n",
    "import matplotlib.pyplot as plt\n",
    "import seaborn as sns\n",
    "\n",
    "\n",
    "drivers = pd.read_csv('drivers.csv')\n",
    "constructors = pd.read_csv('constructors.csv')\n",
    "results = pd.read_csv('results.csv')\n",
    "races=pd.read_csv('races.csv')\n",
    "imp_df = [constructors, drivers,  results,races]\n",
    "\n",
    "drivers['dob'] = pd.to_datetime(drivers['dob'])\n",
    "for df in imp_df:\n",
    "    df.replace('\\\\N', np.nan, inplace=True)\n",
    "    print(df.dtypes)    \n",
    "    \n",
    "races.drop(columns=['fp1_date', 'fp1_time', 'fp2_date', 'fp2_time', 'fp3_date', 'fp3_time', 'quali_date', 'quali_time', 'sprint_date', 'sprint_time'],inplace=True)\n",
    "\n",
    "df=pd.merge(results,races[['raceId','year','name','round']],on='raceId',how='left')\n",
    "df=pd.merge(df,drivers[['driverId','driverRef','nationality']],on='driverId',how='left')\n",
    "df=pd.merge(df,constructors[['constructorId','constructorRef','name','nationality']],on='constructorId',how='left')\n",
    "df.drop(columns=['number','position','positionText','laps','fastestLap','statusId','resultId','driverId','constructorId'],axis=1,inplace=True)\n",
    "df.rename(columns={'rank':'fastest_lap_rank','name_x':'GP_Name','nationality_x':'driver_nationality','name_y':'constructor_name','nationality_y':'constructors_nationality','driverRef':'driver'},inplace=True)\n",
    "\n",
    "df=df[['year','raceId','GP_Name','round','driver','constructor_name','grid','positionOrder','points','time','milliseconds','fastest_lap_rank','fastestLapTime','fastestLapSpeed','driver_nationality','constructors_nationality']]\n",
    "df=df.sort_values(by=['year','round','positionOrder'],ascending=[False,True,True])\n",
    "df.fastestLapSpeed=df.fastestLapSpeed.astype(float)\n",
    "df.fastest_lap_rank=df.fastest_lap_rank.astype(float)\n",
    "df.milliseconds=df.milliseconds.astype(float)\n",
    "print(df.shape)\n",
    "df.reset_index(drop=True,inplace=True)\n",
    "print(df.info)"
   ]
  },
  {
   "cell_type": "code",
   "execution_count": null,
   "metadata": {},
   "outputs": [],
   "source": [
    "season_points = df.groupby(['year', 'driver']).agg({'points': 'sum'}).reset_index()\n",
    "\n",
    "# Identify Season Winners (Max Points per Year)\n",
    "season_winners = season_points.loc[season_points.groupby('year')['points'].idxmax()].reset_index(drop=True)\n",
    "\n",
    "# Sort by Year for Back-to-Back Check\n",
    "season_winners.sort_values('year', inplace=True)\n",
    "\n",
    "#Preview Season Winners\n",
    "print(season_winners)"
   ]
  },
  {
   "cell_type": "code",
   "execution_count": null,
   "metadata": {},
   "outputs": [],
   "source": [
    "# Add Next Season's Winner for Comparison\n",
    "season_winners['next_season_winner'] = season_winners['driver'].shift(-1)\n",
    "season_winners['next_season_year'] = season_winners['year'].shift(-1)\n",
    "\n",
    "# Check for Back-to-Back Titles\n",
    "season_winners['retained_title'] = season_winners['driver'] == season_winners['next_season_winner']\n",
    "\n",
    "# Preview with Retention Info\n",
    "print(season_winners[['year', 'driver', 'points', 'next_season_year', 'next_season_winner', 'retained_title']].head())\n"
   ]
  },
  {
   "cell_type": "code",
   "execution_count": null,
   "metadata": {},
   "outputs": [],
   "source": [
    "# Total Seasons Analyzed\n",
    "total_seasons = season_winners.shape[0] - 1  # Exclude last season (no \"next season\" to compare)\n",
    "\n",
    "# Count Back-to-Back Wins\n",
    "retained_titles = season_winners['retained_title'].sum()\n",
    "\n",
    "# Calculate Probability\n",
    "probability = (retained_titles / total_seasons) * 100\n",
    "\n",
    "print(f\"Probability of Retaining the Title: {probability:.2f}%\")\n"
   ]
  },
  {
   "cell_type": "code",
   "execution_count": null,
   "metadata": {},
   "outputs": [],
   "source": [
    "plt.figure(figsize=(14, 6))\n",
    "sns.lineplot(data=season_winners, x='year', y='points', hue='driver', marker='o', palette='tab20')\n",
    "plt.title('F1 Champions Over Time')\n",
    "plt.xlabel('Season')\n",
    "plt.ylabel('Total Points')\n",
    "plt.legend(title='Driver', bbox_to_anchor=(1.05, 1), loc='upper left')\n",
    "plt.show()\n"
   ]
  },
  {
   "cell_type": "code",
   "execution_count": null,
   "metadata": {},
   "outputs": [],
   "source": [
    "# Count Back-to-Back Title Wins Per Driver\n",
    "back_to_back_counts = season_winners[season_winners['retained_title']].groupby('driver').size().reset_index(name='back_to_back_titles')\n",
    "\n",
    "# Barplot\n",
    "plt.figure(figsize=(12, 6))\n",
    "sns.barplot(data=back_to_back_counts, x='driver', y='back_to_back_titles', palette='viridis')\n",
    "plt.title('Drivers with Back-to-Back Championships')\n",
    "plt.xlabel('Driver')\n",
    "plt.ylabel('Number of Back-to-Back Titles')\n",
    "plt.xticks(rotation=45)\n",
    "plt.show()\n"
   ]
  }
 ],
 "metadata": {
  "kernelspec": {
   "display_name": "dpl",
   "language": "python",
   "name": "python3"
  },
  "language_info": {
   "codemirror_mode": {
    "name": "ipython",
    "version": 3
   },
   "file_extension": ".py",
   "mimetype": "text/x-python",
   "name": "python",
   "nbconvert_exporter": "python",
   "pygments_lexer": "ipython3",
   "version": "3.12.3"
  }
 },
 "nbformat": 4,
 "nbformat_minor": 2
}
